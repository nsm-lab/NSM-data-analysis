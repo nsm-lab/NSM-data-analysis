{
 "cells": [
  {
   "cell_type": "markdown",
   "metadata": {},
   "source": [
    "# Bro Log\n",
    "For the beginning, we should know some arguments about how to operated Zeek logs, such as add Zeek logs to a data frame, and export Zeek logs from Vast to any flexible framework."
   ]
  },
  {
   "cell_type": "markdown",
   "metadata": {},
   "source": [
    "## Converts a Zeek log to a Pandas DataFrame\n",
    "[bat/log_dataframe.py at master · SuperCowPowers/bat](https://github.com/SuperCowPowers/bat/blob/master/bat/log_to_dataframe.py)"
   ]
  },
  {
   "cell_type": "code",
   "execution_count": 13,
   "metadata": {},
   "outputs": [],
   "source": [
    "# Local imports\n",
    "import bat\n",
    "from bat import log_to_dataframe\n",
    "from bat import dataframe_to_matrix"
   ]
  },
  {
   "cell_type": "code",
   "execution_count": 19,
   "metadata": {},
   "outputs": [
    {
     "name": "stdout",
     "output_type": "stream",
     "text": [
      "Successfully monitoring ../../logs/current/http.log...\n"
     ]
    },
    {
     "data": {
      "text/html": [
       "<div>\n",
       "<style scoped>\n",
       "    .dataframe tbody tr th:only-of-type {\n",
       "        vertical-align: middle;\n",
       "    }\n",
       "\n",
       "    .dataframe tbody tr th {\n",
       "        vertical-align: top;\n",
       "    }\n",
       "\n",
       "    .dataframe thead th {\n",
       "        text-align: right;\n",
       "    }\n",
       "</style>\n",
       "<table border=\"1\" class=\"dataframe\">\n",
       "  <thead>\n",
       "    <tr style=\"text-align: right;\">\n",
       "      <th></th>\n",
       "      <th>body_data</th>\n",
       "      <th>body_length</th>\n",
       "      <th>host</th>\n",
       "      <th>id.orig_h</th>\n",
       "      <th>id.orig_p</th>\n",
       "      <th>id.resp_h</th>\n",
       "      <th>id.resp_p</th>\n",
       "      <th>info_code</th>\n",
       "      <th>info_msg</th>\n",
       "      <th>method</th>\n",
       "      <th>...</th>\n",
       "      <th>response_body_len</th>\n",
       "      <th>status_code</th>\n",
       "      <th>status_msg</th>\n",
       "      <th>tags</th>\n",
       "      <th>trans_depth</th>\n",
       "      <th>uid</th>\n",
       "      <th>uri</th>\n",
       "      <th>user_agent</th>\n",
       "      <th>username</th>\n",
       "      <th>version</th>\n",
       "    </tr>\n",
       "    <tr>\n",
       "      <th>ts</th>\n",
       "      <th></th>\n",
       "      <th></th>\n",
       "      <th></th>\n",
       "      <th></th>\n",
       "      <th></th>\n",
       "      <th></th>\n",
       "      <th></th>\n",
       "      <th></th>\n",
       "      <th></th>\n",
       "      <th></th>\n",
       "      <th></th>\n",
       "      <th></th>\n",
       "      <th></th>\n",
       "      <th></th>\n",
       "      <th></th>\n",
       "      <th></th>\n",
       "      <th></th>\n",
       "      <th></th>\n",
       "      <th></th>\n",
       "      <th></th>\n",
       "      <th></th>\n",
       "    </tr>\n",
       "  </thead>\n",
       "  <tbody>\n",
       "    <tr>\n",
       "      <th>2019-02-15 13:31:55.230982</th>\n",
       "      <td>(empty)</td>\n",
       "      <td>0</td>\n",
       "      <td>-</td>\n",
       "      <td>2600:1700:e0d0:5368:20c:29ff:fe2d:d81e</td>\n",
       "      <td>44734</td>\n",
       "      <td>2600:3402:200:227::2</td>\n",
       "      <td>80</td>\n",
       "      <td>0</td>\n",
       "      <td>-</td>\n",
       "      <td>-</td>\n",
       "      <td>...</td>\n",
       "      <td>217850</td>\n",
       "      <td>200</td>\n",
       "      <td>OK</td>\n",
       "      <td>(empty)</td>\n",
       "      <td>1</td>\n",
       "      <td>CRKQzh2t1KBXPnzyZ1</td>\n",
       "      <td>-</td>\n",
       "      <td>-</td>\n",
       "      <td>-</td>\n",
       "      <td>1.1</td>\n",
       "    </tr>\n",
       "    <tr>\n",
       "      <th>2019-02-15 13:34:13.836364</th>\n",
       "      <td>(empty)</td>\n",
       "      <td>0</td>\n",
       "      <td>inglotcosmetics.com</td>\n",
       "      <td>192.168.122.149</td>\n",
       "      <td>49299</td>\n",
       "      <td>212.85.116.154</td>\n",
       "      <td>80</td>\n",
       "      <td>0</td>\n",
       "      <td>-</td>\n",
       "      <td>GET</td>\n",
       "      <td>...</td>\n",
       "      <td>12563</td>\n",
       "      <td>200</td>\n",
       "      <td>OK</td>\n",
       "      <td>(empty)</td>\n",
       "      <td>1</td>\n",
       "      <td>Ck0zR73uoYZMuRfi</td>\n",
       "      <td>/</td>\n",
       "      <td>Mozilla/5.0 (compatible; MSIE 10.0; Windows NT...</td>\n",
       "      <td>-</td>\n",
       "      <td>1.1</td>\n",
       "    </tr>\n",
       "    <tr>\n",
       "      <th>2019-02-15 13:34:13.836364</th>\n",
       "      <td>(empty)</td>\n",
       "      <td>0</td>\n",
       "      <td>inglotcosmetics.com</td>\n",
       "      <td>192.168.122.149</td>\n",
       "      <td>49299</td>\n",
       "      <td>212.85.116.154</td>\n",
       "      <td>80</td>\n",
       "      <td>0</td>\n",
       "      <td>-</td>\n",
       "      <td>GET</td>\n",
       "      <td>...</td>\n",
       "      <td>510</td>\n",
       "      <td>200</td>\n",
       "      <td>OK</td>\n",
       "      <td>(empty)</td>\n",
       "      <td>2</td>\n",
       "      <td>Ck0zR73uoYZMuRfi</td>\n",
       "      <td>/style/jquery.checkbox.css</td>\n",
       "      <td>Mozilla/5.0 (compatible; MSIE 10.0; Windows NT...</td>\n",
       "      <td>-</td>\n",
       "      <td>1.1</td>\n",
       "    </tr>\n",
       "    <tr>\n",
       "      <th>2019-02-15 13:34:13.836364</th>\n",
       "      <td>(empty)</td>\n",
       "      <td>0</td>\n",
       "      <td>inglotcosmetics.com</td>\n",
       "      <td>192.168.122.149</td>\n",
       "      <td>49299</td>\n",
       "      <td>212.85.116.154</td>\n",
       "      <td>80</td>\n",
       "      <td>0</td>\n",
       "      <td>-</td>\n",
       "      <td>GET</td>\n",
       "      <td>...</td>\n",
       "      <td>14053</td>\n",
       "      <td>200</td>\n",
       "      <td>OK</td>\n",
       "      <td>(empty)</td>\n",
       "      <td>3</td>\n",
       "      <td>Ck0zR73uoYZMuRfi</td>\n",
       "      <td>/client/global.js</td>\n",
       "      <td>Mozilla/5.0 (compatible; MSIE 10.0; Windows NT...</td>\n",
       "      <td>-</td>\n",
       "      <td>1.1</td>\n",
       "    </tr>\n",
       "    <tr>\n",
       "      <th>2019-02-15 13:34:13.836364</th>\n",
       "      <td>(empty)</td>\n",
       "      <td>0</td>\n",
       "      <td>st.domandvilma.com</td>\n",
       "      <td>192.168.122.149</td>\n",
       "      <td>49308</td>\n",
       "      <td>192.185.21.183</td>\n",
       "      <td>80</td>\n",
       "      <td>0</td>\n",
       "      <td>-</td>\n",
       "      <td>GET</td>\n",
       "      <td>...</td>\n",
       "      <td>954</td>\n",
       "      <td>200</td>\n",
       "      <td>OK</td>\n",
       "      <td>(empty)</td>\n",
       "      <td>1</td>\n",
       "      <td>CovIzB4U9Dw1H4lUPb</td>\n",
       "      <td>/ysviewforumoowpl.php</td>\n",
       "      <td>Mozilla/5.0 (compatible; MSIE 10.0; Windows NT...</td>\n",
       "      <td>-</td>\n",
       "      <td>1.1</td>\n",
       "    </tr>\n",
       "  </tbody>\n",
       "</table>\n",
       "<p>5 rows × 31 columns</p>\n",
       "</div>"
      ],
      "text/plain": [
       "                           body_data  body_length                 host  \\\n",
       "ts                                                                       \n",
       "2019-02-15 13:31:55.230982   (empty)            0                    -   \n",
       "2019-02-15 13:34:13.836364   (empty)            0  inglotcosmetics.com   \n",
       "2019-02-15 13:34:13.836364   (empty)            0  inglotcosmetics.com   \n",
       "2019-02-15 13:34:13.836364   (empty)            0  inglotcosmetics.com   \n",
       "2019-02-15 13:34:13.836364   (empty)            0   st.domandvilma.com   \n",
       "\n",
       "                                                         id.orig_h  id.orig_p  \\\n",
       "ts                                                                              \n",
       "2019-02-15 13:31:55.230982  2600:1700:e0d0:5368:20c:29ff:fe2d:d81e      44734   \n",
       "2019-02-15 13:34:13.836364                         192.168.122.149      49299   \n",
       "2019-02-15 13:34:13.836364                         192.168.122.149      49299   \n",
       "2019-02-15 13:34:13.836364                         192.168.122.149      49299   \n",
       "2019-02-15 13:34:13.836364                         192.168.122.149      49308   \n",
       "\n",
       "                                       id.resp_h  id.resp_p  info_code  \\\n",
       "ts                                                                       \n",
       "2019-02-15 13:31:55.230982  2600:3402:200:227::2         80          0   \n",
       "2019-02-15 13:34:13.836364        212.85.116.154         80          0   \n",
       "2019-02-15 13:34:13.836364        212.85.116.154         80          0   \n",
       "2019-02-15 13:34:13.836364        212.85.116.154         80          0   \n",
       "2019-02-15 13:34:13.836364        192.185.21.183         80          0   \n",
       "\n",
       "                           info_msg method  ... response_body_len status_code  \\\n",
       "ts                                          ...                                 \n",
       "2019-02-15 13:31:55.230982        -      -  ...            217850         200   \n",
       "2019-02-15 13:34:13.836364        -    GET  ...             12563         200   \n",
       "2019-02-15 13:34:13.836364        -    GET  ...               510         200   \n",
       "2019-02-15 13:34:13.836364        -    GET  ...             14053         200   \n",
       "2019-02-15 13:34:13.836364        -    GET  ...               954         200   \n",
       "\n",
       "                           status_msg     tags trans_depth  \\\n",
       "ts                                                           \n",
       "2019-02-15 13:31:55.230982         OK  (empty)           1   \n",
       "2019-02-15 13:34:13.836364         OK  (empty)           1   \n",
       "2019-02-15 13:34:13.836364         OK  (empty)           2   \n",
       "2019-02-15 13:34:13.836364         OK  (empty)           3   \n",
       "2019-02-15 13:34:13.836364         OK  (empty)           1   \n",
       "\n",
       "                                           uid                         uri  \\\n",
       "ts                                                                           \n",
       "2019-02-15 13:31:55.230982  CRKQzh2t1KBXPnzyZ1                           -   \n",
       "2019-02-15 13:34:13.836364    Ck0zR73uoYZMuRfi                           /   \n",
       "2019-02-15 13:34:13.836364    Ck0zR73uoYZMuRfi  /style/jquery.checkbox.css   \n",
       "2019-02-15 13:34:13.836364    Ck0zR73uoYZMuRfi           /client/global.js   \n",
       "2019-02-15 13:34:13.836364  CovIzB4U9Dw1H4lUPb       /ysviewforumoowpl.php   \n",
       "\n",
       "                                                                   user_agent  \\\n",
       "ts                                                                              \n",
       "2019-02-15 13:31:55.230982                                                  -   \n",
       "2019-02-15 13:34:13.836364  Mozilla/5.0 (compatible; MSIE 10.0; Windows NT...   \n",
       "2019-02-15 13:34:13.836364  Mozilla/5.0 (compatible; MSIE 10.0; Windows NT...   \n",
       "2019-02-15 13:34:13.836364  Mozilla/5.0 (compatible; MSIE 10.0; Windows NT...   \n",
       "2019-02-15 13:34:13.836364  Mozilla/5.0 (compatible; MSIE 10.0; Windows NT...   \n",
       "\n",
       "                           username version  \n",
       "ts                                           \n",
       "2019-02-15 13:31:55.230982        -     1.1  \n",
       "2019-02-15 13:34:13.836364        -     1.1  \n",
       "2019-02-15 13:34:13.836364        -     1.1  \n",
       "2019-02-15 13:34:13.836364        -     1.1  \n",
       "2019-02-15 13:34:13.836364        -     1.1  \n",
       "\n",
       "[5 rows x 31 columns]"
      ]
     },
     "execution_count": 19,
     "metadata": {},
     "output_type": "execute_result"
    }
   ],
   "source": [
    "\n",
    "# Create a Pandas dataframe from a Bro log\n",
    "bro_df = log_to_dataframe.LogToDataFrame('../../logs/current/http.log')\n",
    "\n",
    "# Print out the head of the dataframe\n",
    "bro_df.head()"
   ]
  },
  {
   "cell_type": "code",
   "execution_count": 82,
   "metadata": {},
   "outputs": [
    {
     "data": {
      "text/html": [
       "<div>\n",
       "<style scoped>\n",
       "    .dataframe tbody tr th:only-of-type {\n",
       "        vertical-align: middle;\n",
       "    }\n",
       "\n",
       "    .dataframe tbody tr th {\n",
       "        vertical-align: top;\n",
       "    }\n",
       "\n",
       "    .dataframe thead th {\n",
       "        text-align: right;\n",
       "    }\n",
       "</style>\n",
       "<table border=\"1\" class=\"dataframe\">\n",
       "  <thead>\n",
       "    <tr style=\"text-align: right;\">\n",
       "      <th></th>\n",
       "      <th>id.resp_p</th>\n",
       "      <th>method</th>\n",
       "      <th>resp_mime_types</th>\n",
       "      <th>request_body_len</th>\n",
       "    </tr>\n",
       "    <tr>\n",
       "      <th>ts</th>\n",
       "      <th></th>\n",
       "      <th></th>\n",
       "      <th></th>\n",
       "      <th></th>\n",
       "    </tr>\n",
       "  </thead>\n",
       "  <tbody>\n",
       "    <tr>\n",
       "      <th>2019-02-15 13:31:55.230982</th>\n",
       "      <td>80</td>\n",
       "      <td>-</td>\n",
       "      <td>application/x-debian-package</td>\n",
       "      <td>0</td>\n",
       "    </tr>\n",
       "    <tr>\n",
       "      <th>2019-02-15 13:34:13.836364</th>\n",
       "      <td>80</td>\n",
       "      <td>GET</td>\n",
       "      <td>text/html</td>\n",
       "      <td>0</td>\n",
       "    </tr>\n",
       "    <tr>\n",
       "      <th>2019-02-15 13:34:13.836364</th>\n",
       "      <td>80</td>\n",
       "      <td>GET</td>\n",
       "      <td>text/plain</td>\n",
       "      <td>0</td>\n",
       "    </tr>\n",
       "    <tr>\n",
       "      <th>2019-02-15 13:34:13.836364</th>\n",
       "      <td>80</td>\n",
       "      <td>GET</td>\n",
       "      <td>text/plain</td>\n",
       "      <td>0</td>\n",
       "    </tr>\n",
       "    <tr>\n",
       "      <th>2019-02-15 13:34:13.836364</th>\n",
       "      <td>80</td>\n",
       "      <td>GET</td>\n",
       "      <td>text/plain</td>\n",
       "      <td>0</td>\n",
       "    </tr>\n",
       "  </tbody>\n",
       "</table>\n",
       "</div>"
      ],
      "text/plain": [
       "                            id.resp_p method               resp_mime_types  \\\n",
       "ts                                                                           \n",
       "2019-02-15 13:31:55.230982         80      -  application/x-debian-package   \n",
       "2019-02-15 13:34:13.836364         80    GET                     text/html   \n",
       "2019-02-15 13:34:13.836364         80    GET                    text/plain   \n",
       "2019-02-15 13:34:13.836364         80    GET                    text/plain   \n",
       "2019-02-15 13:34:13.836364         80    GET                    text/plain   \n",
       "\n",
       "                            request_body_len  \n",
       "ts                                            \n",
       "2019-02-15 13:31:55.230982                 0  \n",
       "2019-02-15 13:34:13.836364                 0  \n",
       "2019-02-15 13:34:13.836364                 0  \n",
       "2019-02-15 13:34:13.836364                 0  \n",
       "2019-02-15 13:34:13.836364                 0  "
      ]
     },
     "execution_count": 82,
     "metadata": {},
     "output_type": "execute_result"
    }
   ],
   "source": [
    "\n",
    "# Show the dataframe with mixed feature types\n",
    "features = ['id.resp_p', 'method', 'resp_mime_types', 'request_body_len']\n",
    "bro_df[features].head()"
   ]
  },
  {
   "cell_type": "code",
   "execution_count": null,
   "metadata": {},
   "outputs": [],
   "source": [
    "## Converts Zeek logs to CVS"
   ]
  },
  {
   "cell_type": "code",
   "execution_count": 91,
   "metadata": {},
   "outputs": [],
   "source": [
    "#fields ts      uid     id.orig_h       id.orig_p       id.resp_h       id.resp_p       trans_depth     method  host\n",
    "#    uri     referrer        version user_agent      request_body_len        response_body_len       status_code     status_msg      info_code       info_msg        tags    username        password        proxied orig_fuids      orig_filenames  orig_mime_types resp_fuids      resp_filenames  resp_mime_types body_length     body_data       params_data\n",
    "import pandas as pda\n",
    "http_df = pd.read_csv(\"../../logs/current/http.log\", header=None, sep=\"\\t\", names=['ts', 'uid', 'id.orig_h', 'id.orig_p', 'id.resp_h', 'id.resp_p', 'trans_depth', 'method', 'host', 'uri', 'referrer', 'user_agent', 'request_body_len', 'response_body_len', 'status_code', 'status_msg', 'info_code', 'info_msg', 'filename', 'tags', 'username', 'password', 'proxied', 'orig_fuids', 'orig_mime_types', 'resp_fuids', 'resp_mime_types', 'sample'])"
   ]
  },
  {
   "cell_type": "code",
   "execution_count": 92,
   "metadata": {},
   "outputs": [
    {
     "data": {
      "text/html": [
       "<div>\n",
       "<style scoped>\n",
       "    .dataframe tbody tr th:only-of-type {\n",
       "        vertical-align: middle;\n",
       "    }\n",
       "\n",
       "    .dataframe tbody tr th {\n",
       "        vertical-align: top;\n",
       "    }\n",
       "\n",
       "    .dataframe thead th {\n",
       "        text-align: right;\n",
       "    }\n",
       "</style>\n",
       "<table border=\"1\" class=\"dataframe\">\n",
       "  <thead>\n",
       "    <tr style=\"text-align: right;\">\n",
       "      <th></th>\n",
       "      <th>ts</th>\n",
       "      <th>uid</th>\n",
       "      <th>id.orig_h</th>\n",
       "      <th>id.orig_p</th>\n",
       "      <th>id.resp_h</th>\n",
       "      <th>id.resp_p</th>\n",
       "      <th>trans_depth</th>\n",
       "      <th>method</th>\n",
       "      <th>host</th>\n",
       "      <th>uri</th>\n",
       "      <th>...</th>\n",
       "      <th>filename</th>\n",
       "      <th>tags</th>\n",
       "      <th>username</th>\n",
       "      <th>password</th>\n",
       "      <th>proxied</th>\n",
       "      <th>orig_fuids</th>\n",
       "      <th>orig_mime_types</th>\n",
       "      <th>resp_fuids</th>\n",
       "      <th>resp_mime_types</th>\n",
       "      <th>sample</th>\n",
       "    </tr>\n",
       "  </thead>\n",
       "  <tbody>\n",
       "    <tr>\n",
       "      <th>count</th>\n",
       "      <td>5572</td>\n",
       "      <td>5566</td>\n",
       "      <td>5566</td>\n",
       "      <td>5566</td>\n",
       "      <td>5566</td>\n",
       "      <td>5566</td>\n",
       "      <td>5566</td>\n",
       "      <td>5566</td>\n",
       "      <td>5566</td>\n",
       "      <td>5566</td>\n",
       "      <td>...</td>\n",
       "      <td>5566</td>\n",
       "      <td>5566</td>\n",
       "      <td>5566</td>\n",
       "      <td>5566</td>\n",
       "      <td>5566</td>\n",
       "      <td>5566</td>\n",
       "      <td>5566</td>\n",
       "      <td>5566</td>\n",
       "      <td>5566</td>\n",
       "      <td>5566</td>\n",
       "    </tr>\n",
       "    <tr>\n",
       "      <th>unique</th>\n",
       "      <td>5551</td>\n",
       "      <td>3091</td>\n",
       "      <td>21</td>\n",
       "      <td>539</td>\n",
       "      <td>389</td>\n",
       "      <td>11</td>\n",
       "      <td>102</td>\n",
       "      <td>6</td>\n",
       "      <td>386</td>\n",
       "      <td>1744</td>\n",
       "      <td>...</td>\n",
       "      <td>3</td>\n",
       "      <td>3</td>\n",
       "      <td>3</td>\n",
       "      <td>3</td>\n",
       "      <td>3</td>\n",
       "      <td>166</td>\n",
       "      <td>3</td>\n",
       "      <td>4</td>\n",
       "      <td>4468</td>\n",
       "      <td>29</td>\n",
       "    </tr>\n",
       "    <tr>\n",
       "      <th>top</th>\n",
       "      <td>1550266473.608821</td>\n",
       "      <td>CIW5pg1Gwr4rISKxgi</td>\n",
       "      <td>10.10.100.139</td>\n",
       "      <td>49258</td>\n",
       "      <td>199.212.255.139</td>\n",
       "      <td>80</td>\n",
       "      <td>1</td>\n",
       "      <td>GET</td>\n",
       "      <td>xml2.danarimedia.com</td>\n",
       "      <td>-</td>\n",
       "      <td>...</td>\n",
       "      <td>-</td>\n",
       "      <td>(empty)</td>\n",
       "      <td>-</td>\n",
       "      <td>-</td>\n",
       "      <td>-</td>\n",
       "      <td>-</td>\n",
       "      <td>-</td>\n",
       "      <td>-</td>\n",
       "      <td>-</td>\n",
       "      <td>-</td>\n",
       "    </tr>\n",
       "    <tr>\n",
       "      <th>freq</th>\n",
       "      <td>11</td>\n",
       "      <td>100</td>\n",
       "      <td>1058</td>\n",
       "      <td>306</td>\n",
       "      <td>304</td>\n",
       "      <td>5483</td>\n",
       "      <td>3089</td>\n",
       "      <td>5086</td>\n",
       "      <td>303</td>\n",
       "      <td>187</td>\n",
       "      <td>...</td>\n",
       "      <td>5564</td>\n",
       "      <td>5564</td>\n",
       "      <td>5564</td>\n",
       "      <td>5564</td>\n",
       "      <td>5564</td>\n",
       "      <td>5401</td>\n",
       "      <td>5564</td>\n",
       "      <td>5446</td>\n",
       "      <td>1099</td>\n",
       "      <td>5401</td>\n",
       "    </tr>\n",
       "  </tbody>\n",
       "</table>\n",
       "<p>4 rows × 28 columns</p>\n",
       "</div>"
      ],
      "text/plain": [
       "                       ts                 uid      id.orig_h id.orig_p  \\\n",
       "count                5572                5566           5566      5566   \n",
       "unique               5551                3091             21       539   \n",
       "top     1550266473.608821  CIW5pg1Gwr4rISKxgi  10.10.100.139     49258   \n",
       "freq                   11                 100           1058       306   \n",
       "\n",
       "              id.resp_h id.resp_p trans_depth method                  host  \\\n",
       "count              5566      5566        5566   5566                  5566   \n",
       "unique              389        11         102      6                   386   \n",
       "top     199.212.255.139        80           1    GET  xml2.danarimedia.com   \n",
       "freq                304      5483        3089   5086                   303   \n",
       "\n",
       "         uri  ... filename     tags username password proxied orig_fuids  \\\n",
       "count   5566  ...     5566     5566     5566     5566    5566       5566   \n",
       "unique  1744  ...        3        3        3        3       3        166   \n",
       "top        -  ...        -  (empty)        -        -       -          -   \n",
       "freq     187  ...     5564     5564     5564     5564    5564       5401   \n",
       "\n",
       "       orig_mime_types resp_fuids resp_mime_types sample  \n",
       "count             5566       5566            5566   5566  \n",
       "unique               3          4            4468     29  \n",
       "top                  -          -               -      -  \n",
       "freq              5564       5446            1099   5401  \n",
       "\n",
       "[4 rows x 28 columns]"
      ]
     },
     "execution_count": 92,
     "metadata": {},
     "output_type": "execute_result"
    }
   ],
   "source": [
    "# how to show data manipulate it by calling the describe() method\n",
    "http_df.describe()"
   ]
  },
  {
   "cell_type": "code",
   "execution_count": 30,
   "metadata": {},
   "outputs": [
    {
     "data": {
      "text/plain": [
       "array([[<matplotlib.axes._subplots.AxesSubplot object at 0x1296ca978>,\n",
       "        <matplotlib.axes._subplots.AxesSubplot object at 0x1295bdc18>]],\n",
       "      dtype=object)"
      ]
     },
     "execution_count": 30,
     "metadata": {},
     "output_type": "execute_result"
    },
    {
     "data": {
      "image/png": "[encoded data removed]",
      "text/plain": [
       "<Figure size 432x288 with 2 Axes>"
      ]
     },
     "metadata": {
      "needs_background": "light"
     },
     "output_type": "display_data"
    }
   ],
   "source": [
    "# to view each number of host\n",
    "bro_df[['request_body_len','response_body_len']].hist()\n"
   ]
  },
  {
   "cell_type": "code",
   "execution_count": 8,
   "metadata": {},
   "outputs": [],
   "source": [
    "# Filtering Data Using Conditions and Clean_up a specific field"
   ]
  },
  {
   "cell_type": "code",
   "execution_count": 32,
   "metadata": {},
   "outputs": [],
   "source": [
    "from datetime import datetime\n",
    "http_df[['ts']]\n",
    "# delete in the first seven rows\n",
    "http_df['ts'] = [datetime.fromtimestamp(float(date)) for date in http_df['ts'].values"
   ]
  },
  {
   "cell_type": "code",
   "execution_count": 34,
   "metadata": {},
   "outputs": [
    {
     "data": {
      "text/html": [
       "<div>\n",
       "<style scoped>\n",
       "    .dataframe tbody tr th:only-of-type {\n",
       "        vertical-align: middle;\n",
       "    }\n",
       "\n",
       "    .dataframe tbody tr th {\n",
       "        vertical-align: top;\n",
       "    }\n",
       "\n",
       "    .dataframe thead th {\n",
       "        text-align: right;\n",
       "    }\n",
       "</style>\n",
       "<table border=\"1\" class=\"dataframe\">\n",
       "  <thead>\n",
       "    <tr style=\"text-align: right;\">\n",
       "      <th></th>\n",
       "      <th>uid</th>\n",
       "      <th>id.orig_h</th>\n",
       "      <th>id.orig_p</th>\n",
       "      <th>id.resp_h</th>\n",
       "      <th>id.resp_p</th>\n",
       "      <th>trans_depth</th>\n",
       "      <th>method</th>\n",
       "      <th>host</th>\n",
       "      <th>uri</th>\n",
       "      <th>referrer</th>\n",
       "      <th>...</th>\n",
       "      <th>filename</th>\n",
       "      <th>tags</th>\n",
       "      <th>username</th>\n",
       "      <th>password</th>\n",
       "      <th>proxied</th>\n",
       "      <th>orig_fuids</th>\n",
       "      <th>orig_mime_types</th>\n",
       "      <th>resp_fuids</th>\n",
       "      <th>resp_mime_types</th>\n",
       "      <th>sample</th>\n",
       "    </tr>\n",
       "    <tr>\n",
       "      <th>ts</th>\n",
       "      <th></th>\n",
       "      <th></th>\n",
       "      <th></th>\n",
       "      <th></th>\n",
       "      <th></th>\n",
       "      <th></th>\n",
       "      <th></th>\n",
       "      <th></th>\n",
       "      <th></th>\n",
       "      <th></th>\n",
       "      <th></th>\n",
       "      <th></th>\n",
       "      <th></th>\n",
       "      <th></th>\n",
       "      <th></th>\n",
       "      <th></th>\n",
       "      <th></th>\n",
       "      <th></th>\n",
       "      <th></th>\n",
       "      <th></th>\n",
       "      <th></th>\n",
       "    </tr>\n",
       "  </thead>\n",
       "  <tbody>\n",
       "    <tr>\n",
       "      <th>#separator \\x09</th>\n",
       "      <td>NaN</td>\n",
       "      <td>NaN</td>\n",
       "      <td>NaN</td>\n",
       "      <td>NaN</td>\n",
       "      <td>NaN</td>\n",
       "      <td>NaN</td>\n",
       "      <td>NaN</td>\n",
       "      <td>NaN</td>\n",
       "      <td>NaN</td>\n",
       "      <td>NaN</td>\n",
       "      <td>...</td>\n",
       "      <td>NaN</td>\n",
       "      <td>NaN</td>\n",
       "      <td>NaN</td>\n",
       "      <td>NaN</td>\n",
       "      <td>NaN</td>\n",
       "      <td>NaN</td>\n",
       "      <td>NaN</td>\n",
       "      <td>NaN</td>\n",
       "      <td>NaN</td>\n",
       "      <td>NaN</td>\n",
       "    </tr>\n",
       "    <tr>\n",
       "      <th>#set_separator</th>\n",
       "      <td>,</td>\n",
       "      <td>NaN</td>\n",
       "      <td>NaN</td>\n",
       "      <td>NaN</td>\n",
       "      <td>NaN</td>\n",
       "      <td>NaN</td>\n",
       "      <td>NaN</td>\n",
       "      <td>NaN</td>\n",
       "      <td>NaN</td>\n",
       "      <td>NaN</td>\n",
       "      <td>...</td>\n",
       "      <td>NaN</td>\n",
       "      <td>NaN</td>\n",
       "      <td>NaN</td>\n",
       "      <td>NaN</td>\n",
       "      <td>NaN</td>\n",
       "      <td>NaN</td>\n",
       "      <td>NaN</td>\n",
       "      <td>NaN</td>\n",
       "      <td>NaN</td>\n",
       "      <td>NaN</td>\n",
       "    </tr>\n",
       "    <tr>\n",
       "      <th>#empty_field</th>\n",
       "      <td>(empty)</td>\n",
       "      <td>NaN</td>\n",
       "      <td>NaN</td>\n",
       "      <td>NaN</td>\n",
       "      <td>NaN</td>\n",
       "      <td>NaN</td>\n",
       "      <td>NaN</td>\n",
       "      <td>NaN</td>\n",
       "      <td>NaN</td>\n",
       "      <td>NaN</td>\n",
       "      <td>...</td>\n",
       "      <td>NaN</td>\n",
       "      <td>NaN</td>\n",
       "      <td>NaN</td>\n",
       "      <td>NaN</td>\n",
       "      <td>NaN</td>\n",
       "      <td>NaN</td>\n",
       "      <td>NaN</td>\n",
       "      <td>NaN</td>\n",
       "      <td>NaN</td>\n",
       "      <td>NaN</td>\n",
       "    </tr>\n",
       "    <tr>\n",
       "      <th>#unset_field</th>\n",
       "      <td>-</td>\n",
       "      <td>NaN</td>\n",
       "      <td>NaN</td>\n",
       "      <td>NaN</td>\n",
       "      <td>NaN</td>\n",
       "      <td>NaN</td>\n",
       "      <td>NaN</td>\n",
       "      <td>NaN</td>\n",
       "      <td>NaN</td>\n",
       "      <td>NaN</td>\n",
       "      <td>...</td>\n",
       "      <td>NaN</td>\n",
       "      <td>NaN</td>\n",
       "      <td>NaN</td>\n",
       "      <td>NaN</td>\n",
       "      <td>NaN</td>\n",
       "      <td>NaN</td>\n",
       "      <td>NaN</td>\n",
       "      <td>NaN</td>\n",
       "      <td>NaN</td>\n",
       "      <td>NaN</td>\n",
       "    </tr>\n",
       "    <tr>\n",
       "      <th>#path</th>\n",
       "      <td>http</td>\n",
       "      <td>NaN</td>\n",
       "      <td>NaN</td>\n",
       "      <td>NaN</td>\n",
       "      <td>NaN</td>\n",
       "      <td>NaN</td>\n",
       "      <td>NaN</td>\n",
       "      <td>NaN</td>\n",
       "      <td>NaN</td>\n",
       "      <td>NaN</td>\n",
       "      <td>...</td>\n",
       "      <td>NaN</td>\n",
       "      <td>NaN</td>\n",
       "      <td>NaN</td>\n",
       "      <td>NaN</td>\n",
       "      <td>NaN</td>\n",
       "      <td>NaN</td>\n",
       "      <td>NaN</td>\n",
       "      <td>NaN</td>\n",
       "      <td>NaN</td>\n",
       "      <td>NaN</td>\n",
       "    </tr>\n",
       "  </tbody>\n",
       "</table>\n",
       "<p>5 rows × 27 columns</p>\n",
       "</div>"
      ],
      "text/plain": [
       "                     uid id.orig_h id.orig_p id.resp_h id.resp_p trans_depth  \\\n",
       "ts                                                                             \n",
       "#separator \\x09      NaN       NaN       NaN       NaN       NaN         NaN   \n",
       "#set_separator         ,       NaN       NaN       NaN       NaN         NaN   \n",
       "#empty_field     (empty)       NaN       NaN       NaN       NaN         NaN   \n",
       "#unset_field           -       NaN       NaN       NaN       NaN         NaN   \n",
       "#path               http       NaN       NaN       NaN       NaN         NaN   \n",
       "\n",
       "                method host  uri referrer  ... filename tags username  \\\n",
       "ts                                         ...                          \n",
       "#separator \\x09    NaN  NaN  NaN      NaN  ...      NaN  NaN      NaN   \n",
       "#set_separator     NaN  NaN  NaN      NaN  ...      NaN  NaN      NaN   \n",
       "#empty_field       NaN  NaN  NaN      NaN  ...      NaN  NaN      NaN   \n",
       "#unset_field       NaN  NaN  NaN      NaN  ...      NaN  NaN      NaN   \n",
       "#path              NaN  NaN  NaN      NaN  ...      NaN  NaN      NaN   \n",
       "\n",
       "                password proxied orig_fuids orig_mime_types resp_fuids  \\\n",
       "ts                                                                       \n",
       "#separator \\x09      NaN     NaN        NaN             NaN        NaN   \n",
       "#set_separator       NaN     NaN        NaN             NaN        NaN   \n",
       "#empty_field         NaN     NaN        NaN             NaN        NaN   \n",
       "#unset_field         NaN     NaN        NaN             NaN        NaN   \n",
       "#path                NaN     NaN        NaN             NaN        NaN   \n",
       "\n",
       "                resp_mime_types sample  \n",
       "ts                                      \n",
       "#separator \\x09             NaN    NaN  \n",
       "#set_separator              NaN    NaN  \n",
       "#empty_field                NaN    NaN  \n",
       "#unset_field                NaN    NaN  \n",
       "#path                       NaN    NaN  \n",
       "\n",
       "[5 rows x 27 columns]"
      ]
     },
     "execution_count": 34,
     "metadata": {},
     "output_type": "execute_result"
    }
   ],
   "source": [
    "http_df = http_df.set_index('ts')\n",
    "http_df.head()"
   ]
  },
  {
   "cell_type": "code",
   "execution_count": 38,
   "metadata": {},
   "outputs": [
    {
     "data": {
      "text/plain": [
       "Text(0.5, 0, 'HTTP Requests per Second')"
      ]
     },
     "execution_count": 38,
     "metadata": {},
     "output_type": "execute_result"
    },
    {
     "data": {
      "image/png": "[encoded data removed]",
      "text/plain": [
       "<Figure size 432x288 with 1 Axes>"
      ]
     },
     "metadata": {
      "needs_background": "light"
     },
     "output_type": "display_data"
    }
   ],
   "source": [
    "import matplotlib.pyplot as plt\n",
    "bro_df['uid'].resample('1S').count().plot()\n",
    "plt.xlabel('HTTP Requests per Second')"
   ]
  },
  {
   "cell_type": "code",
   "execution_count": 43,
   "metadata": {},
   "outputs": [
    {
     "data": {
      "text/plain": [
       "1460"
      ]
     },
     "execution_count": 43,
     "metadata": {},
     "output_type": "execute_result"
    }
   ],
   "source": [
    "bro_df['body_length'].max()"
   ]
  },
  {
   "cell_type": "code",
   "execution_count": 44,
   "metadata": {},
   "outputs": [
    {
     "data": {
      "text/plain": [
       "0"
      ]
     },
     "execution_count": 44,
     "metadata": {},
     "output_type": "execute_result"
    }
   ],
   "source": [
    "bro_df['body_length'].min()"
   ]
  },
  {
   "cell_type": "code",
   "execution_count": 45,
   "metadata": {},
   "outputs": [
    {
     "data": {
      "text/plain": [
       "83.0194061098829"
      ]
     },
     "execution_count": 45,
     "metadata": {},
     "output_type": "execute_result"
    }
   ],
   "source": [
    "bro_df['body_length'].std()"
   ]
  },
  {
   "cell_type": "code",
   "execution_count": 61,
   "metadata": {},
   "outputs": [
    {
     "data": {
      "text/plain": [
       "1316.75"
      ]
     },
     "execution_count": 61,
     "metadata": {},
     "output_type": "execute_result"
    }
   ],
   "source": [
    "bro_df[bro_df['request_body_len'] > 1000]['body_length'].mean()"
   ]
  },
  {
   "cell_type": "code",
   "execution_count": 66,
   "metadata": {},
   "outputs": [
    {
     "data": {
      "text/plain": [
       "9042.0"
      ]
     },
     "execution_count": 66,
     "metadata": {},
     "output_type": "execute_result"
    }
   ],
   "source": [
    "# finding out specific host name of the related repospinse_body_len\n",
    "bro_df[bro_df['host'] == 'inglotcosmetics.com']['response_body_len'].mean()"
   ]
  },
  {
   "cell_type": "code",
   "execution_count": null,
   "metadata": {},
   "outputs": [],
   "source": [
    "#Plotting the Relationship Between body_length and response_body_len"
   ]
  },
  {
   "cell_type": "code",
   "execution_count": 68,
   "metadata": {},
   "outputs": [
    {
     "data": {
      "text/plain": [
       "[<matplotlib.lines.Line2D at 0x12be21b38>]"
      ]
     },
     "execution_count": 68,
     "metadata": {},
     "output_type": "execute_result"
    },
    {
     "data": {
      "image/png": "[encoded data removed]",
      "text/plain": [
       "<Figure size 432x288 with 1 Axes>"
      ]
     },
     "metadata": {
      "needs_background": "light"
     },
     "output_type": "display_data"
    }
   ],
   "source": [
    "# 'bo' mean, tells matplotilb what color can be used\n",
    "# 'alpha' is transparency of the circles, to 0.1\n",
    "from matplotlib import pyplot \n",
    "pyplot.plot(bro_df['request_body_len'],bro_df['body_length'],'bo',alpha=0.01)"
   ]
  },
  {
   "cell_type": "code",
   "execution_count": 69,
   "metadata": {},
   "outputs": [],
   "source": [
    "# load 'dateutil' support to easily parse dates from many different formats.\n",
    "import dateutil"
   ]
  },
  {
   "cell_type": "code",
   "execution_count": 95,
   "metadata": {},
   "outputs": [],
   "source": [
    "import seaborn"
   ]
  },
  {
   "cell_type": "code",
   "execution_count": null,
   "metadata": {},
   "outputs": [],
   "source": [
    "seaborn.countplot(x='host', data=bro_df)\n",
    "pyplot.show()"
   ]
  },
  {
   "cell_type": "code",
   "execution_count": null,
   "metadata": {},
   "outputs": [],
   "source": []
  }
 ],
 "metadata": {
  "kernelspec": {
   "display_name": "Python 3",
   "language": "python",
   "name": "python3"
  },
  "language_info": {
   "codemirror_mode": {
    "name": "ipython",
    "version": 3
   },
   "file_extension": ".py",
   "mimetype": "text/x-python",
   "name": "python",
   "nbconvert_exporter": "python",
   "pygments_lexer": "ipython3",
   "version": "3.7.6"
  }
 },
 "nbformat": 4,
 "nbformat_minor": 4
}
