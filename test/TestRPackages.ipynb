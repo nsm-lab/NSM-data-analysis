{
 "cells": [
  {
   "cell_type": "code",
   "execution_count": 3,
   "metadata": {},
   "outputs": [],
   "source": [
    "library(zoo)"
   ]
  },
  {
   "cell_type": "code",
   "execution_count": 4,
   "metadata": {},
   "outputs": [
    {
     "name": "stderr",
     "output_type": "stream",
     "text": [
      "simpleWarning in if (class(res$value) == \"help_files_with_topic\") {: the condition has length > 1 and only the first element will be used\n",
      "\n",
      "\n"
     ]
    }
   ],
   "source": [
    "xts1 <- xts(x=1:10, order.by=Sys.Date()-1:10)"
   ]
  },
  {
   "cell_type": "code",
   "execution_count": 5,
   "metadata": {},
   "outputs": [],
   "source": [
    "data <- rnorm(5)"
   ]
  },
  {
   "cell_type": "code",
   "execution_count": 6,
   "metadata": {},
   "outputs": [],
   "source": [
    "dates <- seq(as.Date(\"2017-05-01\"), length=5, by=\"days\")"
   ]
  },
  {
   "cell_type": "code",
   "execution_count": 7,
   "metadata": {},
   "outputs": [
    {
     "name": "stderr",
     "output_type": "stream",
     "text": [
      "simpleWarning in if (class(res$value) == \"help_files_with_topic\") {: the condition has length > 1 and only the first element will be used\n",
      "\n",
      "\n"
     ]
    }
   ],
   "source": [
    "xts2 <- xts(x=data, order.by=dates)"
   ]
  },
  {
   "cell_type": "code",
   "execution_count": 8,
   "metadata": {},
   "outputs": [],
   "source": [
    "core_data <- coredata(xts1)"
   ]
  },
  {
   "cell_type": "code",
   "execution_count": 9,
   "metadata": {},
   "outputs": [
    {
     "data": {
      "text/html": [
       "<table>\n",
       "<caption>A matrix: 10 x 1 of type int</caption>\n",
       "<tbody>\n",
       "\t<tr><td>10</td></tr>\n",
       "\t<tr><td> 9</td></tr>\n",
       "\t<tr><td> 8</td></tr>\n",
       "\t<tr><td> 7</td></tr>\n",
       "\t<tr><td> 6</td></tr>\n",
       "\t<tr><td> 5</td></tr>\n",
       "\t<tr><td> 4</td></tr>\n",
       "\t<tr><td> 3</td></tr>\n",
       "\t<tr><td> 2</td></tr>\n",
       "\t<tr><td> 1</td></tr>\n",
       "</tbody>\n",
       "</table>\n"
      ],
      "text/latex": [
       "A matrix: 10 x 1 of type int\n",
       "\\begin{tabular}{l}\n",
       "\t 10\\\\\n",
       "\t  9\\\\\n",
       "\t  8\\\\\n",
       "\t  7\\\\\n",
       "\t  6\\\\\n",
       "\t  5\\\\\n",
       "\t  4\\\\\n",
       "\t  3\\\\\n",
       "\t  2\\\\\n",
       "\t  1\\\\\n",
       "\\end{tabular}\n"
      ],
      "text/markdown": [
       "\n",
       "A matrix: 10 x 1 of type int\n",
       "\n",
       "| 10 |\n",
       "|  9 |\n",
       "|  8 |\n",
       "|  7 |\n",
       "|  6 |\n",
       "|  5 |\n",
       "|  4 |\n",
       "|  3 |\n",
       "|  2 |\n",
       "|  1 |\n",
       "\n"
      ],
      "text/plain": [
       "      [,1]\n",
       " [1,] 10  \n",
       " [2,]  9  \n",
       " [3,]  8  \n",
       " [4,]  7  \n",
       " [5,]  6  \n",
       " [6,]  5  \n",
       " [7,]  4  \n",
       " [8,]  3  \n",
       " [9,]  2  \n",
       "[10,]  1  "
      ]
     },
     "execution_count": 9,
     "metadata": {},
     "output_type": "execute_result"
    }
   ],
   "source": [
    "core_data"
   ]
  },
  {
   "cell_type": "code",
   "execution_count": null,
   "metadata": {},
   "outputs": [],
   "source": []
  },
  {
   "cell_type": "code",
   "execution_count": null,
   "metadata": {},
   "outputs": [],
   "source": []
  }
 ],
 "metadata": {
  "kernelspec": {
   "display_name": "Python 3",
   "language": "python",
   "name": "python3"
  },
  "language_info": {
   "codemirror_mode": {
    "name": "ipython",
    "version": 3
   },
   "file_extension": ".py",
   "mimetype": "text/x-python",
   "name": "python",
   "nbconvert_exporter": "python",
   "pygments_lexer": "ipython3",
   "version": "3.7.6"
  }
 },
 "nbformat": 4,
 "nbformat_minor": 4
}
